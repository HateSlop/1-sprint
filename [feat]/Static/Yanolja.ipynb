{
 "cells": [
  {
   "cell_type": "code",
   "execution_count": 3,
   "metadata": {},
   "outputs": [],
   "source": [
    "from selenium import webdriver\n",
    "from selenium.webdriver.common.by import By\n",
    "from selenium.webdriver.chrome.service import Service\n",
    "from selenium.webdriver.chrome.options import Options\n",
    "from bs4 import BeautifulSoup\n",
    "import time"
   ]
  },
  {
   "cell_type": "code",
   "execution_count": null,
   "metadata": {},
   "outputs": [],
   "source": [
    "# Selenium 설정\n",
    "chrome_options = Options()  # 브라우저 창을 띄우지 않음\n",
    "service = Service('C:/Users/Edward/Downloads/chromedriver-win64/chromedriver.exe')  # chromedriver 경로 설정\n",
    "driver = webdriver.Chrome(service=service, options=chrome_options)"
   ]
  },
  {
   "cell_type": "code",
   "execution_count": 27,
   "metadata": {},
   "outputs": [],
   "source": [
    "# 새로운 창을 열기 전에 기존 창을 닫지 않도록 확인\n",
    "if driver.service.is_connectable():\n",
    "    driver.quit()\n",
    "    \n",
    "# 페이지 로드\n",
    "url = 'https://www.yanolja.com/global/search/%ED%9B%84%EC%BF%A0%EC%98%A4%EC%B9%B4,%20%EC%9D%BC%EB%B3%B8?keyword=%ED%9B%84%EC%BF%A0%EC%98%A4%EC%B9%B4%2C%20%EC%9D%BC%EB%B3%B8'  # 실제 URL로 변경\n",
    "driver.get(url)\n",
    "\n",
    "# 페이지가 완전히 로드될 때까지 대기\n",
    "time.sleep(5)  # 필요에 따라 조정\n",
    "\n",
    "#페이지 소스 가져오기\n",
    "html_content = driver.page_source\n",
    "soup = BeautifulSoup(html_content, 'html.parser')"
   ]
  },
  {
   "cell_type": "code",
   "execution_count": 29,
   "metadata": {},
   "outputs": [
    {
     "name": "stdout",
     "output_type": "stream",
     "text": [
      "지역: 일본/후쿠오카 호텔명: 크로스 라이프 하카타 야나기바시 별점: 4.5\n",
      "지역: 일본/후쿠오카 호텔명: 호텔 마이스테이 후쿠오카 텐진 미나미 별점: 4.2\n",
      "지역: 일본/후쿠오카 호텔명: 프라자 호텔 덴진 별점: 3.8\n",
      "지역: 일본/후쿠오카 호텔명: 베스트 웨스턴 플러스 후쿠오카 텐진 미나미 별점: 4.5\n",
      "지역: 일본/후쿠오카 호텔명: 프린스 스마트 인 하카타 별점: 4.6\n",
      "지역: 일본/후쿠오카 호텔명: 칸데오 호텔 후쿠오카 텐진 별점: 4.4\n",
      "지역: 일본/후쿠오카 호텔명: APA 호텔 하카타 기온 에키마에 별점: 4.5\n",
      "지역: 일본/후쿠오카 호텔명: 호텔 오리엔탈 익스프레스 후쿠오카 텐진 별점: 4.5\n",
      "지역: 일본/후쿠오카 호텔명: 서튼 호텔 하카타 시티 별점: 4.2\n",
      "지역: 일본/후쿠오카 호텔명: 니시테츠 호텔 텐진 별점: 4.1\n",
      "지역: 일본/후쿠오카 호텔명: 램프 라이트 북 호텔 후쿠오카 별점: 4.7\n",
      "지역: 일본/후쿠오카 호텔명: 엔 호텔 하카타 별점: 4.4\n",
      "지역: 일본/기타큐슈 호텔명: 퀸테사 호텔 고쿠라 코믹 앤 북 별점: 4.6\n",
      "지역: 일본/후쿠오카 호텔명: 호텔 WBF 그랑드 하카타 별점: 3.9\n",
      "지역: 일본/후쿠오카 호텔명: 종크 하카타 별점: 4.3\n",
      "지역: 일본/후쿠오카 호텔명: 코트 호텔 후쿠오카 텐진 별점: 4.4\n",
      "지역: 일본/후쿠오카 호텔명: APA 호텔 후쿠오카 텐진니시 별점: 4.4\n",
      "지역: 일본/후쿠오카 호텔명: R&B Hotel Hakata Ekimae 2 - Vacation STAY 16395v 별점: 4.2\n",
      "지역: 일본/후쿠오카 호텔명: KOKO HOTEL Fukuoka Tenjin 별점: 4.3\n",
      "지역: 일본/후쿠오카 호텔명: THE LIVELY HAKATA FUKUOKA - Vacation STAY 82639 별점: 4.1\n"
     ]
    }
   ],
   "source": [
    "# 데이터 추출\n",
    "data = []\n",
    "items = soup.select(\".OptimizedHorizontalItem_bodyTop__3r8h5\")\n",
    "for item in items:\n",
    "    location = item.select_one(\".OptimizedItemText_TEXT__INFORMATION_LOCATION__38GTa\").text.replace(' · ', '/')  \n",
    "    name = item.select_one(\".OptimizedItemText_TEXT__TITLE__BOLD__1p1GS\").text\n",
    "    star = item.select_one(\".OptimizedReviewInfo_TEXT__DOMESTIC_REVIEW_SCORE__u25BV\").text\n",
    "    print(\"지역:\",location,\"호텔명:\", name, f\"별점: {star}\")\n",
    "        # 데이터 리스트에 추가\n",
    "    data.append({\n",
    "        \"지역\": location,\n",
    "        \"호텔명\": name,\n",
    "        \"별점\": star\n",
    "    })\n",
    "\n",
    "# 드라이버 종료\n",
    "driver.quit()"
   ]
  },
  {
   "cell_type": "code",
   "execution_count": 30,
   "metadata": {},
   "outputs": [],
   "source": [
    "import pandas as pd\n",
    "\n",
    "# 데이터프레임 생성\n",
    "df = pd.DataFrame(data)\n",
    "# 엑셀 파일로 저장\n",
    "df.to_excel(\"yanolja_일본_후쿠오카.xlsx\", index=False)"
   ]
  },
  {
   "cell_type": "code",
   "execution_count": 112,
   "metadata": {},
   "outputs": [
    {
     "data": {
      "text/plain": [
       "['https://www.yanolja.com//global/place/2471275']"
      ]
     },
     "execution_count": 112,
     "metadata": {},
     "output_type": "execute_result"
    }
   ],
   "source": [
    "urls = []\n",
    "objects = soup.select(\".OptimizedCommonList_container__15a2O\")\n",
    "for object in objects:\n",
    "    url = object.select_one(\"a\").attrs['href']\n",
    "    urls.append(f\"https://www.yanolja.com/{url}\")\n",
    "urls"
   ]
  },
  {
   "cell_type": "code",
   "execution_count": 43,
   "metadata": {},
   "outputs": [],
   "source": [
    "# 새로운 창을 열기 전에 기존 창을 닫지 않도록 확인\n",
    "if driver.service.is_connectable():\n",
    "    driver.quit()\n",
    "\n",
    "# 새로운 드라이버 인스턴스 생성\n",
    "driver = webdriver.Chrome(service=service, options=chrome_options)\n",
    "\n",
    "url = \"https://www.yanolja.com/reviews/global/2471275?reviewId=2589682\"\n",
    "driver.get(url)\n",
    "# 페이지가 완전히 로드될 때까지 대기\n",
    "time.sleep(5)  # 필요에 따라 조정\n",
    "\n",
    "# 페이지 소스 가져오기\n",
    "html_content = driver.page_source\n",
    "soup = BeautifulSoup(html_content, 'html.parser')\n",
    "\n",
    "# 리뷰 항목 선택\n",
    "items = soup.select(\".review-item-container\")  # 리뷰 아이템을 포함하는 적절한 클래스 선택"
   ]
  },
  {
   "cell_type": "code",
   "execution_count": 32,
   "metadata": {},
   "outputs": [],
   "source": [
    "for item in items:\n",
    "    group_traveler = item.select_one(\".css-1irbwe1 span\").text\n",
    "    title = item.select_one(\".css-mx5tbu\").text\n",
    "    review_text = item.select_one(\".css-1kpa3g .content-text\").text\n",
    "    stars = item.select(\".css-1mhwecd\")# 별점 정보 추출\n",
    "    star_count = len([star for star in stars if 'fill=\"#FDBD00\"' in str(star)])  # 별점이 채워진 개수 세기\n",
    "    print(\"그룹 여행객:\", group_traveler)\n",
    "    print(\"제목:\", title)\n",
    "    print(\"리뷰:\", review_text)\n",
    "    print(\"별점:\", \"*\"*star_count)\n",
    "    print(\"-\" * 40)\n",
    "    "
   ]
  },
  {
   "cell_type": "code",
   "execution_count": 44,
   "metadata": {},
   "outputs": [],
   "source": [
    "# 데이터 저장을 위한 리스트\n",
    "data = []\n",
    "\n",
    "# 각 리뷰에서 텍스트 추출\n",
    "for item in items[:20]:  # 최대 20개의 리뷰 추출\n",
    "    group_traveler = item.select_one(\".css-1irbwe1 span\").text if item.select_one(\".css-1irbwe1 span\") else \"N/A\"\n",
    "    title = item.select_one(\".css-mx5tbu\").text if item.select_one(\".css-mx5tbu\") else \"N/A\"\n",
    "    review_text = item.select_one(\".css-1kpa3g .content-text\").text if item.select_one(\".css-1kpa3g .content-text\") else \"N/A\"\n",
    "    \n",
    "    # 별점 정보 추출\n",
    "    stars = item.select(\".css-1mhwecd\")\n",
    "    star_count = len([star for star in stars if 'fill=\"#FDBD00\"' in str(star)])  # 별점이 채워진 개수 세기\n",
    "    \n",
    "    # 데이터 리스트에 추가\n",
    "    data.append({\n",
    "        \"그룹 여행객\": group_traveler,\n",
    "        \"제목\": title,\n",
    "        \"리뷰\": review_text,\n",
    "        \"별점\": star_count\n",
    "    })\n",
    "\n",
    "# 드라이버 종료\n",
    "driver.quit()"
   ]
  },
  {
   "cell_type": "code",
   "execution_count": 46,
   "metadata": {},
   "outputs": [],
   "source": [
    "import pandas as pd\n",
    "\n",
    "# 데이터프레임 생성\n",
    "df = pd.DataFrame(data)\n",
    "# 엑셀 파일로 저장\n",
    "df.to_excel(\"yanolja_reviews_크로스 라이프 하카타 야나기바시.xlsx\", index=False)"
   ]
  }
 ],
 "metadata": {
  "kernelspec": {
   "display_name": "tf210",
   "language": "python",
   "name": "python3"
  },
  "language_info": {
   "codemirror_mode": {
    "name": "ipython",
    "version": 3
   },
   "file_extension": ".py",
   "mimetype": "text/x-python",
   "name": "python",
   "nbconvert_exporter": "python",
   "pygments_lexer": "ipython3",
   "version": "3.9.18"
  }
 },
 "nbformat": 4,
 "nbformat_minor": 2
}
